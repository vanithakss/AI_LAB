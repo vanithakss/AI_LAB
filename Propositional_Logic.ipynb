{
  "nbformat": 4,
  "nbformat_minor": 0,
  "metadata": {
    "colab": {
      "provenance": [],
      "authorship_tag": "ABX9TyNwFPLECSEA1agje8cm6DA8",
      "include_colab_link": true
    },
    "kernelspec": {
      "name": "python3",
      "display_name": "Python 3"
    },
    "language_info": {
      "name": "python"
    }
  },
  "cells": [
    {
      "cell_type": "markdown",
      "metadata": {
        "id": "view-in-github",
        "colab_type": "text"
      },
      "source": [
        "<a href=\"https://colab.research.google.com/github/snehanshastri/AI/blob/main/Propositional_Logic.ipynb\" target=\"_parent\"><img src=\"https://colab.research.google.com/assets/colab-badge.svg\" alt=\"Open In Colab\"/></a>"
      ]
    },
    {
      "cell_type": "code",
      "execution_count": 6,
      "metadata": {
        "colab": {
          "base_uri": "https://localhost:8080/"
        },
        "id": "foZaQLnctZpE",
        "outputId": "ee9371c3-49ff-4ec3-aba7-ad48bc10a09e"
      },
      "outputs": [
        {
          "output_type": "stream",
          "name": "stdout",
          "text": [
            "Enter the propositions (symbols) separated by spaces: A B C\n",
            "Enter the number of statements in the knowledge base: 2\n",
            "Enter statement 1 in the knowledge base: (A or C)\n",
            "Enter statement 2 in the knowledge base: (B or not C)\n",
            "Enter the query: A or B\n",
            "KB entails the query.\n",
            "Models where KB entails query:\n",
            "{'A': False, 'B': True, 'C': True}\n",
            "{'A': True, 'B': False, 'C': False}\n",
            "{'A': True, 'B': True, 'C': False}\n",
            "{'A': True, 'B': True, 'C': True}\n"
          ]
        }
      ],
      "source": [
        "from itertools import product\n",
        "\n",
        "# Define a function to evaluate a propositional expression\n",
        "def evaluate(expr, model):\n",
        "    \"\"\"\n",
        "    Evaluates the given expression based on the values in the model.\n",
        "    \"\"\"\n",
        "    for var, val in model.items():\n",
        "        expr = expr.replace(var, str(val))\n",
        "    return eval(expr)\n",
        "\n",
        "# Define the truth-table enumeration algorithm\n",
        "def truth_table_entails(KB, query, symbols):\n",
        "    \"\"\"\n",
        "    Checks if KB entails query using truth-table enumeration.\n",
        "    KB: list of propositional expressions (strings)\n",
        "    query: propositional expression (string)\n",
        "    symbols: list of symbols (propositions) in the KB and query\n",
        "    \"\"\"\n",
        "    # Generate all possible truth assignments\n",
        "    assignments = list(product([False, True], repeat=len(symbols)))\n",
        "\n",
        "    entailing_models = []\n",
        "\n",
        "    # Iterate over each assignment to check entailment\n",
        "    for assignment in assignments:\n",
        "        model = dict(zip(symbols, assignment))\n",
        "\n",
        "        # Check if KB is true in this model\n",
        "        KB_is_true = all(evaluate(expr, model) for expr in KB)\n",
        "\n",
        "        # If KB is true, check if query is also true\n",
        "        if KB_is_true:\n",
        "            query_is_true = evaluate(query, model)\n",
        "            if query_is_true:\n",
        "                entailing_models.append(model)  # Store the model\n",
        "            else:\n",
        "                return False, []\n",
        "               # Found a model where KB is true but query is false\n",
        "\n",
        "    return True, entailing_models  # KB entails query if no counterexample was found\n",
        "\n",
        "# Get input from the user\n",
        "symbols = input(\"Enter the propositions (symbols) separated by spaces: \").split()\n",
        "KB = []\n",
        "n = int(input(\"Enter the number of statements in the knowledge base: \"))\n",
        "\n",
        "for i in range(n):\n",
        "    expr = input(f\"Enter statement {i + 1} in the knowledge base: \")\n",
        "    KB.append(expr)\n",
        "\n",
        "query = input(\"Enter the query: \")\n",
        "\n",
        "# Check entailment\n",
        "result, models = truth_table_entails(KB, query, symbols)\n",
        "if truth_table_entails(KB, query, symbols):\n",
        "    print(\"KB entails the query.\")\n",
        "    print(\"Models where KB entails query:\")\n",
        "    for model in models:\n",
        "        print(model)\n",
        "else:\n",
        "    print(\"KB does not entail the query.\")\n"
      ]
    }
  ]
}