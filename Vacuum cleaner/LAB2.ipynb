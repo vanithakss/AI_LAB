{
  "nbformat": 4,
  "nbformat_minor": 0,
  "metadata": {
    "colab": {
      "provenance": []
    },
    "kernelspec": {
      "name": "python3",
      "display_name": "Python 3"
    },
    "language_info": {
      "name": "python"
    }
  },
  "cells": [
    {
      "cell_type": "code",
      "execution_count": 1,
      "metadata": {
        "colab": {
          "base_uri": "https://localhost:8080/"
        },
        "id": "42mIfVNhzQAw",
        "outputId": "e840ce34-97b8-4149-fa86-8b95464848d2"
      },
      "outputs": [
        {
          "output_type": "stream",
          "name": "stdout",
          "text": [
            "Enter Location of Vacuum (A or B): B\n",
            "Enter status of B (0 for Clean, 1 for Dirty): 1\n",
            "Enter status of other room (0 for Clean, 1 for Dirty): 0\n",
            "Initial Location Condition: {'A': '0', 'B': '0'}\n",
            "Location B is Dirty.\n",
            "Location B has been Cleaned. Cost for CLEANING: 1\n",
            "GOAL STATE: {'A': '0', 'B': '0'}\n",
            "Performance Measurement: 1\n",
            "Vanitha - 1BM22CS317\n"
          ]
        }
      ],
      "source": [
        "#Vacuum Cleaner Agent\n",
        "def vacuum_world():\n",
        "    # Initializing goal_state: 0 indicates Clean, 1 indicates Dirty\n",
        "    goal_state = {'A': '0', 'B': '0'}\n",
        "    cost = 0\n",
        "\n",
        "    # User inputs\n",
        "    location_input = input(\"Enter Location of Vacuum (A or B): \")\n",
        "    status_input = input(f\"Enter status of {location_input} (0 for Clean, 1 for Dirty): \")\n",
        "    status_input_complement = input(\"Enter status of other room (0 for Clean, 1 for Dirty): \")\n",
        "\n",
        "    print(\"Initial Location Condition:\", goal_state)\n",
        "\n",
        "    # Function to clean a location\n",
        "    def clean(location):\n",
        "        nonlocal cost\n",
        "        goal_state[location] = '0'\n",
        "        cost += 1\n",
        "        print(f\"Location {location} has been Cleaned. Cost for CLEANING: {cost}\")\n",
        "\n",
        "    # Function to move to a location\n",
        "    def move(location):\n",
        "        nonlocal cost\n",
        "        cost += 1\n",
        "        print(f\"Moving to Location {location}. Cost for moving: {cost}\")\n",
        "\n",
        "    if location_input == 'A':\n",
        "        if status_input == '1':\n",
        "            print(\"Location A is Dirty.\")\n",
        "            clean('A')\n",
        "            if status_input_complement == '1':\n",
        "                print(\"Location B is Dirty.\")\n",
        "                move('B')\n",
        "                clean('B')\n",
        "        else:\n",
        "            print(\"Location A is already clean.\")\n",
        "            if status_input_complement == '1':\n",
        "                print(\"Location B is Dirty.\")\n",
        "                move('B')\n",
        "                clean('B')\n",
        "\n",
        "    else:  # Vacuum is placed in location B\n",
        "        if status_input == '1':\n",
        "            print(\"Location B is Dirty.\")\n",
        "            clean('B')\n",
        "            if status_input_complement == '1':\n",
        "                print(\"Location A is Dirty.\")\n",
        "                move('A')\n",
        "                clean('A')\n",
        "        else:\n",
        "            print(\"Location B is already clean.\")\n",
        "            if status_input_complement == '1':\n",
        "                print(\"Location A is Dirty.\")\n",
        "                move('A')\n",
        "                clean('A')\n",
        "\n",
        "    # Final output\n",
        "    print(\"GOAL STATE:\", goal_state)\n",
        "    print(\"Performance Measurement:\", cost)\n",
        "\n",
        "# Call the function to run it\n",
        "vacuum_world()\n",
        "\n",
        "print(\"Vanitha - 1BM22CS317\")\n",
        ""
      ]
    }
  ]
}