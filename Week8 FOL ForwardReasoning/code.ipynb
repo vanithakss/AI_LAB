{
  "nbformat": 4,
  "nbformat_minor": 0,
  "metadata": {
    "colab": {
      "provenance": []
    },
    "kernelspec": {
      "name": "python3",
      "display_name": "Python 3"
    },
    "language_info": {
      "name": "python"
    }
  },
  "cells": [
    {
      "cell_type": "code",
      "execution_count": 5,
      "metadata": {
        "colab": {
          "base_uri": "https://localhost:8080/"
        },
        "id": "f3eINO8lnXZx",
        "outputId": "1a2b14ff-29e5-4542-dc26-e09c59d57628"
      },
      "outputs": [
        {
          "output_type": "stream",
          "name": "stdout",
          "text": [
            "Enter the knowledge base (rules and facts), one per line. Enter 'END' to finish:\n",
            "A\n",
            "B\n",
            "C\n",
            "D\n",
            "A B -> C\n",
            "C -> D\n",
            "END\n",
            "Enter the query (atomic sentence): D\n",
            "Query satisfied.\n",
            "\n",
            "Vanitha - 1BM22CS317\n"
          ]
        }
      ],
      "source": [
        "#First Order Logic: Forward Chaining\n",
        "\n",
        "def forward_reasoning_algorithm():\n",
        "    print(\"Enter the knowledge base (rules and facts), one per line. Enter 'END' to finish:\")\n",
        "\n",
        "    # Initialize the knowledge base and facts\n",
        "    knowledge_base = []\n",
        "    facts = set()\n",
        "\n",
        "    # Input: Knowledge base (rules and facts)\n",
        "    while True:\n",
        "        line = input().strip()\n",
        "        if line == \"END\":\n",
        "            break\n",
        "        if \"=>\" in line:  # Rule with premises and conclusion\n",
        "            premises, conclusion = line.split(\" => \")\n",
        "            knowledge_base.append((premises.split(), conclusion.strip()))\n",
        "        else:  # Fact\n",
        "            facts.add(line.strip())\n",
        "\n",
        "    # Input: Query\n",
        "    query = input(\"Enter the query (atomic sentence): \").strip()\n",
        "\n",
        "    # Forward-chaining algorithm\n",
        "    inferred = set()  # Store all inferred facts\n",
        "    new_inferences = True\n",
        "\n",
        "    while new_inferences:\n",
        "        new_inferences = False\n",
        "        for premises, conclusion in knowledge_base:\n",
        "            # Check if all premises are satisfied in the current set of facts\n",
        "            if all(p in facts for p in premises) and conclusion not in facts:\n",
        "                # Infer the conclusion\n",
        "                facts.add(conclusion)\n",
        "                inferred.add(conclusion)\n",
        "                new_inferences = True\n",
        "\n",
        "        # Break if no new facts are inferred in this iteration\n",
        "        if not new_inferences:\n",
        "            break\n",
        "\n",
        "    # Check if the query can be inferred\n",
        "    if query in facts:\n",
        "        print(\"Query satisfied.\")\n",
        "    else:\n",
        "        print(\"Query cannot be inferred from the knowledge base.\")\n",
        "\n",
        "\n",
        "# Run the algorithm\n",
        "forward_reasoning_algorithm()\n",
        "\n",
        "print(\"\\nVanitha - 1BM22CS317\")"
      ]
    }
  ]
}
