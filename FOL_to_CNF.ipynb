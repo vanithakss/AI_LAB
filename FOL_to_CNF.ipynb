{
  "nbformat": 4,
  "nbformat_minor": 0,
  "metadata": {
    "colab": {
      "provenance": []
    },
    "kernelspec": {
      "name": "python3",
      "display_name": "Python 3"
    },
    "language_info": {
      "name": "python"
    }
  },
  "cells": [
    {
      "cell_type": "code",
      "execution_count": 2,
      "metadata": {
        "colab": {
          "base_uri": "https://localhost:8080/"
        },
        "id": "zBQVasTA3tA1",
        "outputId": "822c870b-7452-49c3-bbaa-678a2154173b"
      },
      "outputs": [
        {
          "output_type": "stream",
          "name": "stdout",
          "text": [
            "FOL expression: Implies(A, B | ~C)\n",
            "CNF expression: B | ~A | ~C\n"
          ]
        }
      ],
      "source": [
        "from sympy.logic.boolalg import Or, And, Not, Implies, Equivalent\n",
        "from sympy import symbols\n",
        "\n",
        "def eliminate_implications(expr):\n",
        "    \"\"\"Eliminate implications and equivalences.\"\"\"\n",
        "    if isinstance(expr, Implies):\n",
        "        return Or(Not(eliminate_implications(expr.args[0])), eliminate_implications(expr.args[1]))\n",
        "    elif isinstance(expr, Equivalent):\n",
        "        left = eliminate_implications(expr.args[0])\n",
        "        right = eliminate_implications(expr.args[1])\n",
        "        return And(Or(Not(left), right), Or(Not(right), left))\n",
        "    elif expr.is_Atom:\n",
        "        return expr\n",
        "    else:\n",
        "        return expr.func(*[eliminate_implications(arg) for arg in expr.args])\n",
        "\n",
        "def push_negations(expr):\n",
        "    \"\"\"Push negations inward using De Morgan's laws.\"\"\"\n",
        "    if expr.is_Not:\n",
        "        arg = expr.args[0]\n",
        "        if isinstance(arg, And):\n",
        "            return Or(*[push_negations(Not(sub_arg)) for sub_arg in arg.args])\n",
        "        elif isinstance(arg, Or):\n",
        "            return And(*[push_negations(Not(sub_arg)) for sub_arg in arg.args])\n",
        "        elif isinstance(arg, Not):\n",
        "            return push_negations(arg.args[0])\n",
        "        else:\n",
        "            return Not(push_negations(arg))\n",
        "    elif expr.is_Atom:\n",
        "        return expr\n",
        "    else:\n",
        "        return expr.func(*[push_negations(arg) for arg in expr.args])\n",
        "\n",
        "def distribute_ands(expr):\n",
        "    \"\"\"Distribute AND over OR to obtain CNF.\"\"\"\n",
        "    if isinstance(expr, Or):\n",
        "        and_args = [arg for arg in expr.args if isinstance(arg, And)]\n",
        "        if and_args:\n",
        "            first_and = and_args[0]\n",
        "            rest = [arg for arg in expr.args if arg != first_and]\n",
        "            return And(*[distribute_ands(Or(arg, *rest)) for arg in first_and.args])\n",
        "    elif isinstance(expr, And) or expr.is_Atom or expr.is_Not:\n",
        "        return expr\n",
        "    return expr.func(*[distribute_ands(arg) for arg in expr.args])\n",
        "\n",
        "def to_cnf(expr):\n",
        "    \"\"\"Convert the given logical expression to CNF.\"\"\"\n",
        "    expr = eliminate_implications(expr)\n",
        "    expr = push_negations(expr)\n",
        "    expr = distribute_ands(expr)\n",
        "    return expr\n",
        "\n",
        "# Example usage:\n",
        "A, B, C = symbols('A B C')\n",
        "fol_expr = Implies(A, Or(B, Not(C)))  # Example FOL expression\n",
        "cnf_expr = to_cnf(fol_expr)\n",
        "\n",
        "print(\"FOL expression:\", fol_expr)\n",
        "print(\"CNF expression:\", cnf_expr)\n"
      ]
    }
  ]
}