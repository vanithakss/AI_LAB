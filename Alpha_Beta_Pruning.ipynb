{
  "nbformat": 4,
  "nbformat_minor": 0,
  "metadata": {
    "colab": {
      "provenance": [],
      "authorship_tag": "ABX9TyPlEHHO7ld5qH3QFoIbvPBG",
      "include_colab_link": true
    },
    "kernelspec": {
      "name": "python3",
      "display_name": "Python 3"
    },
    "language_info": {
      "name": "python"
    }
  },
  "cells": [
    {
      "cell_type": "markdown",
      "metadata": {
        "id": "view-in-github",
        "colab_type": "text"
      },
      "source": [
        "<a href=\"https://colab.research.google.com/github/snehanshastri/AI/blob/main/Alpha_Beta_Pruning.ipynb\" target=\"_parent\"><img src=\"https://colab.research.google.com/assets/colab-badge.svg\" alt=\"Open In Colab\"/></a>"
      ]
    },
    {
      "cell_type": "code",
      "execution_count": 1,
      "metadata": {
        "colab": {
          "base_uri": "https://localhost:8080/"
        },
        "id": "c1t5iV1MNgki",
        "outputId": "d9d5149f-7574-4242-81bb-102d9056f826"
      },
      "outputs": [
        {
          "output_type": "stream",
          "name": "stdout",
          "text": [
            "The optimal value is : 5\n"
          ]
        }
      ],
      "source": [
        "# Python3 program to demonstrate\n",
        "# working of Alpha-Beta Pruning\n",
        "\n",
        "# Initial values of Alpha and Beta\n",
        "MAX, MIN = 1000, -1000\n",
        "\n",
        "# Returns optimal value for current player\n",
        "#(Initially called for root and maximizer)\n",
        "def minimax(depth, nodeIndex, maximizingPlayer,\n",
        "\t\t\tvalues, alpha, beta):\n",
        "\n",
        "\t# Terminating condition. i.e\n",
        "\t# leaf node is reached\n",
        "\tif depth == 3:\n",
        "\t\treturn values[nodeIndex]\n",
        "\n",
        "\tif maximizingPlayer:\n",
        "\n",
        "\t\tbest = MIN\n",
        "\n",
        "\t\t# Recur for left and right children\n",
        "\t\tfor i in range(0, 2):\n",
        "\n",
        "\t\t\tval = minimax(depth + 1, nodeIndex * 2 + i,\n",
        "\t\t\t\t\t\tFalse, values, alpha, beta)\n",
        "\t\t\tbest = max(best, val)\n",
        "\t\t\talpha = max(alpha, best)\n",
        "\n",
        "\t\t\t# Alpha Beta Pruning\n",
        "\t\t\tif beta <= alpha:\n",
        "\t\t\t\tbreak\n",
        "\n",
        "\t\treturn best\n",
        "\n",
        "\telse:\n",
        "\t\tbest = MAX\n",
        "\n",
        "\t\t# Recur for left and\n",
        "\t\t# right children\n",
        "\t\tfor i in range(0, 2):\n",
        "\n",
        "\t\t\tval = minimax(depth + 1, nodeIndex * 2 + i,\n",
        "\t\t\t\t\t\t\tTrue, values, alpha, beta)\n",
        "\t\t\tbest = min(best, val)\n",
        "\t\t\tbeta = min(beta, best)\n",
        "\n",
        "\t\t\t# Alpha Beta Pruning\n",
        "\t\t\tif beta <= alpha:\n",
        "\t\t\t\tbreak\n",
        "\n",
        "\t\treturn best\n",
        "\n",
        "# Driver Code\n",
        "if __name__ == \"__main__\":\n",
        "\n",
        "\tvalues = [3, 5, 6, 9, 1, 2, 0, -1]\n",
        "\tprint(\"The optimal value is :\", minimax(0, 0, True, values, MIN, MAX))\n",
        "\n",
        "\n"
      ]
    }
  ]
}